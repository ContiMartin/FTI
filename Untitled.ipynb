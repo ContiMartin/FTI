{
 "cells": [
  {
   "cell_type": "code",
   "execution_count": 5,
   "metadata": {},
   "outputs": [
    {
     "name": "stdin",
     "output_type": "stream",
     "text": [
      "Ingrese estructura de Java a graficar dhwf\n"
     ]
    },
    {
     "name": "stdout",
     "output_type": "stream",
     "text": [
      "Oops! No era válido. Intente nuevamente...\n"
     ]
    }
   ],
   "source": [
    "from graphviz import Digraph, nohtml\n",
    "g = Digraph('g', node_attr={'shape': 'record', 'height': '.1'})\n",
    "import os, sys\n",
    "import networkx as nx\n",
    "import matplotlib.pyplot as plt\n",
    "\n",
    "GRAMMAR = '''\n",
    "    @@grammar::CALC\n",
    "    \n",
    "    BLOQUE\n",
    "        =\n",
    "        | instruccion ';' BLOQUE\n",
    "        | WHILE               \n",
    "        | IFELSEIFELSE\n",
    "        | IFELSEIF\n",
    "        | IFELSE\n",
    "        | IF\n",
    "        | instruccion ';'\n",
    "        ;\n",
    "        \n",
    "    WHILE = 'while' CONDICION '{' BLOQUE '}';\n",
    "    \n",
    "    CONDICION\n",
    "        =\n",
    "        | '(' CONDICION OPE_ARIT CONDICION ')'\n",
    "        | '(' CONDICION OPE_COND CONDICION ')'\n",
    "        | number\n",
    "        ;\n",
    "        \n",
    "    IF = 'if' CONDICION '{' BLOQUE '}';\n",
    "    \n",
    "    IFELSE = 'if' CONDICION '{' BLOQUE '}' 'else' '{' BLOQUE '}';\n",
    "     \n",
    "    IFELSEIF = 'if' CONDICION '{' BLOQUE '}' 'elseif' CONDICION '{' BLOQUE '}';\n",
    "        \n",
    "    IFELSEIFELSE  = 'if' CONDICION '{' BLOQUE '}' 'elseif' CONDICION '{' BLOQUE '}' 'else' '{' BLOQUE '}';\n",
    "    \n",
    "    OPE_ARIT\n",
    "        =\n",
    "        | '+' \n",
    "        | '-' \n",
    "        | '*' \n",
    "        | '%' \n",
    "        | '/'\n",
    "        ;\n",
    "        \n",
    "    OPE_COND\n",
    "        =\n",
    "        | '<='\n",
    "        | '>='\n",
    "        | '=='\n",
    "        | '<'\n",
    "        | '>'\n",
    "        | '!='\n",
    "        | '||'\n",
    "        | '&&'\n",
    "        ;\n",
    "        \n",
    "    instruccion =/[0-9a-zA-Z-_=.]{1,100}/ ; \n",
    "    number = /\\d+/ ;\n",
    "'''\n",
    "\n",
    "\n",
    "if __name__ == '__main__':\n",
    "    import pprint\n",
    "    import json\n",
    "    from tatsu import parse\n",
    "    from tatsu.util import asjson\n",
    "    \n",
    "    while True:\n",
    "        try:    \n",
    "            \n",
    "            entrada = input(\"Ingrese estructura de Java a graficar\")\n",
    "            ast = parse(GRAMMAR, entrada)\n",
    "            \n",
    "            print('# PPRINT')\n",
    "            pprint.pprint(ast, indent=5, width=20)\n",
    "            \n",
    "            g.node('node0', nohtml('<f1> BLOQUE'))\n",
    "            g.node('node1', nohtml('<f0> instruccion ; |<f1> WHILE |<f3> IFELSE |<f4> IF'))\n",
    "            g.node('node2', nohtml('<f1> while CONDICION  BLOQUE'))\n",
    "            g.node('node3', nohtml('<f0> (CONDICION OPE_ARIT CONDICION) |<f1> numero|<f2> CONDICION OPE_COND CONDICION'))\n",
    "            g.node('node4', nohtml('<f1> CONDICION'))\n",
    "            g.node('node5', nohtml('<f1> if CONDICION BLOQUE ;'))\n",
    "            g.node('node6', nohtml('<f1> if CONDICION BLOQUE else BLOQUE'))\n",
    "            #g.node('node7', nohtml('<f1> if CONDICION BLOQUE elseif CONDICION BLOQUE else BLOQUE'))\n",
    "            g.node('node8', nohtml('<f1> +  -  *  %  /'))\n",
    "            g.node('node9', nohtml('<f1> or and etc..'))\n",
    "            g.node('node10', nohtml('<f1> [0-9a-zA-Z-_=.]'))\n",
    "            g.node('node11', nohtml('<f1> number'))\n",
    "\n",
    "            g.edge('node0:f2', 'node1:f0')\n",
    "            g.edge('node0:f2', 'node1:f1')\n",
    "            g.edge('node0:f2', 'node1:f3')\n",
    "            g.edge('node0:f2', 'node1:f4')\n",
    "            g.edge('node1:f1', 'node2:f0')\n",
    "            g.edge('node1:f3', 'node6:f1')\n",
    "            \n",
    "            g.edge('node1:f4', 'node5:f1')\n",
    "\n",
    "            g.edge('node2:f1', 'node4:f1')\n",
    "            g.edge('node4:f1', 'node3:f0')\n",
    "            g.edge('node4:f1', 'node3:f1')\n",
    "            g.edge('node4:f1', 'node3:f2')\n",
    "            \n",
    "            g.edge('node3:f0', 'node8:f1')\n",
    "            g.edge('node3:f1', 'node11:f1')\n",
    "            g.edge('node3:f2', 'node9:f1')\n",
    "            g.edge('node5:f1', 'node4:f1')\n",
    "\n",
    "            g.view()\n",
    "            break\n",
    "        except:\n",
    "            print(\"Oops! No era válido. Intente nuevamente...\")\n",
    "            break\n",
    "            \n",
    "             #'if (2>3){var=2;} elseif(2==2) {PUYO;} else{HOLA;}'"
   ]
  },
  {
   "cell_type": "code",
   "execution_count": 6,
   "metadata": {},
   "outputs": [
    {
     "data": {
      "text/plain": [
       "'G.gv.pdf'"
      ]
     },
     "execution_count": 6,
     "metadata": {},
     "output_type": "execute_result"
    }
   ],
   "source": [
    "from graphviz import Digraph\n",
    "\n",
    "g = Digraph('G')\n",
    "\n",
    "g.edge('Hello', 'World')\n",
    "\n",
    "g.view()"
   ]
  },
  {
   "cell_type": "code",
   "execution_count": 26,
   "metadata": {},
   "outputs": [
    {
     "ename": "SyntaxError",
     "evalue": "invalid syntax (<ipython-input-26-0ffb40c65088>, line 14)",
     "output_type": "error",
     "traceback": [
      "\u001b[1;36m  File \u001b[1;32m\"<ipython-input-26-0ffb40c65088>\"\u001b[1;36m, line \u001b[1;32m14\u001b[0m\n\u001b[1;33m    digraph {\u001b[0m\n\u001b[1;37m            ^\u001b[0m\n\u001b[1;31mSyntaxError\u001b[0m\u001b[1;31m:\u001b[0m invalid syntax\n"
     ]
    }
   ],
   "source": [
    "from graphviz import Digraph\n",
    "\n",
    "dot = Digraph(comment='The Round Table')\n",
    "\n",
    "dot.node('A', 'King Arthur')\n",
    "dot.node('B', 'Sir Bedevere the Wise')\n",
    "dot.node('L', 'Sir Lancelot the Brave')\n",
    "\n",
    "dot.edges(['AB', 'AL'])\n",
    "dot.edge('B', 'L', constraint='false')\n",
    "\n",
    "print(dot.source)  # doctest: +NORMALIZE_WHITESPACE\n",
    "#The Round Table\n",
    "digraph {\n",
    "    A [label=\"King Arthur\"]\n",
    "    B [label=\"Sir Bedevere the Wise\"]\n",
    "    L [label=\"Sir Lancelot the Brave\"]\n",
    "    A -> B\n",
    "    A -> L\n",
    "    B -> L [constraint=false]\n",
    "}\n",
    "dot.render('test-output/round-table.gv', view=True)"
   ]
  }
 ],
 "metadata": {
  "kernelspec": {
   "display_name": "Python 3",
   "language": "python",
   "name": "python3"
  },
  "language_info": {
   "codemirror_mode": {
    "name": "ipython",
    "version": 3
   },
   "file_extension": ".py",
   "mimetype": "text/x-python",
   "name": "python",
   "nbconvert_exporter": "python",
   "pygments_lexer": "ipython3",
   "version": "3.7.0"
  }
 },
 "nbformat": 4,
 "nbformat_minor": 2
}
